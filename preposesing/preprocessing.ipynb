{
 "cells": [
  {
   "cell_type": "code",
   "execution_count": 43,
   "id": "c4590b55",
   "metadata": {},
   "outputs": [],
   "source": [
    "import numpy as np\n",
    "import matplotlib.pyplot as plt\n",
    "import pandas as pd"
   ]
  },
  {
   "cell_type": "code",
   "execution_count": 44,
   "id": "0837de0f",
   "metadata": {},
   "outputs": [],
   "source": [
    "dataset = pd.read_csv('results.csv')\n",
    "x = dataset.iloc[:, :-1].values\n",
    "y = dataset.iloc[:, -1].values"
   ]
  },
  {
   "cell_type": "code",
   "execution_count": 45,
   "id": "f75c5a2d",
   "metadata": {},
   "outputs": [
    {
     "name": "stdout",
     "output_type": "stream",
     "text": [
      "[['Sheffield United' 'Liverpool' 1.0 1.0 'D']\n",
      " ['Arsenal' 'Aston Villa' 1.0 1.0 'D']\n",
      " ['Everton' 'Watford' 2.0 1.0 'H']\n",
      " ...\n",
      " ['Swansea City' 'Stoke City' 1.0 2.0 'A']\n",
      " ['Tottenham Hotspur' 'Leicester City' 5.0 4.0 'H']\n",
      " ['West Ham United' 'Everton' 3.0 1.0 'H']]\n"
     ]
    }
   ],
   "source": [
    "print(x)"
   ]
  },
  {
   "cell_type": "code",
   "execution_count": 46,
   "id": "be9c9a46",
   "metadata": {},
   "outputs": [
    {
     "name": "stdout",
     "output_type": "stream",
     "text": [
      "['2006-2007' '2006-2007' '2006-2007' ... '2017-2018' '2017-2018'\n",
      " '2017-2018']\n"
     ]
    }
   ],
   "source": [
    "print(y)"
   ]
  },
  {
   "cell_type": "code",
   "execution_count": 47,
   "id": "5fdbf4fe",
   "metadata": {},
   "outputs": [],
   "source": [
    "from sklearn.impute import SimpleImputer\n",
    "imputer = SimpleImputer(missing_values=np.nan, strategy='mean')\n",
    "imputer.fit(x[:, 2:4])\n",
    "x[:, 2:4] = imputer.transform(x[:, 2:4])"
   ]
  },
  {
   "cell_type": "code",
   "execution_count": 48,
   "id": "9ac5858b",
   "metadata": {},
   "outputs": [
    {
     "name": "stdout",
     "output_type": "stream",
     "text": [
      "[['Sheffield United' 'Liverpool' 1.0 1.0 'D']\n",
      " ['Arsenal' 'Aston Villa' 1.0 1.0 'D']\n",
      " ['Everton' 'Watford' 2.0 1.0 'H']\n",
      " ...\n",
      " ['Swansea City' 'Stoke City' 1.0 2.0 'A']\n",
      " ['Tottenham Hotspur' 'Leicester City' 5.0 4.0 'H']\n",
      " ['West Ham United' 'Everton' 3.0 1.0 'H']]\n"
     ]
    }
   ],
   "source": [
    "print(x)"
   ]
  },
  {
   "cell_type": "code",
   "execution_count": 49,
   "id": "c2c728bf",
   "metadata": {
    "scrolled": true
   },
   "outputs": [
    {
     "ename": "ValueError",
     "evalue": "For a sparse output, all columns should be a numeric or convertible to a numeric.",
     "output_type": "error",
     "traceback": [
      "\u001b[1;31m---------------------------------------------------------------------------\u001b[0m",
      "\u001b[1;31mValueError\u001b[0m                                Traceback (most recent call last)",
      "File \u001b[1;32m~\\miniconda3\\lib\\site-packages\\sklearn\\compose\\_column_transformer.py:830\u001b[0m, in \u001b[0;36mColumnTransformer._hstack\u001b[1;34m(self, Xs)\u001b[0m\n\u001b[0;32m    826\u001b[0m \u001b[38;5;28;01mtry\u001b[39;00m:\n\u001b[0;32m    827\u001b[0m     \u001b[38;5;66;03m# since all columns should be numeric before stacking them\u001b[39;00m\n\u001b[0;32m    828\u001b[0m     \u001b[38;5;66;03m# in a sparse matrix, `check_array` is used for the\u001b[39;00m\n\u001b[0;32m    829\u001b[0m     \u001b[38;5;66;03m# dtype conversion if necessary.\u001b[39;00m\n\u001b[1;32m--> 830\u001b[0m     converted_Xs \u001b[38;5;241m=\u001b[39m [\n\u001b[0;32m    831\u001b[0m         check_array(X, accept_sparse\u001b[38;5;241m=\u001b[39m\u001b[38;5;28;01mTrue\u001b[39;00m, force_all_finite\u001b[38;5;241m=\u001b[39m\u001b[38;5;28;01mFalse\u001b[39;00m)\n\u001b[0;32m    832\u001b[0m         \u001b[38;5;28;01mfor\u001b[39;00m X \u001b[38;5;129;01min\u001b[39;00m Xs\n\u001b[0;32m    833\u001b[0m     ]\n\u001b[0;32m    834\u001b[0m \u001b[38;5;28;01mexcept\u001b[39;00m \u001b[38;5;167;01mValueError\u001b[39;00m \u001b[38;5;28;01mas\u001b[39;00m e:\n",
      "File \u001b[1;32m~\\miniconda3\\lib\\site-packages\\sklearn\\compose\\_column_transformer.py:831\u001b[0m, in \u001b[0;36m<listcomp>\u001b[1;34m(.0)\u001b[0m\n\u001b[0;32m    826\u001b[0m \u001b[38;5;28;01mtry\u001b[39;00m:\n\u001b[0;32m    827\u001b[0m     \u001b[38;5;66;03m# since all columns should be numeric before stacking them\u001b[39;00m\n\u001b[0;32m    828\u001b[0m     \u001b[38;5;66;03m# in a sparse matrix, `check_array` is used for the\u001b[39;00m\n\u001b[0;32m    829\u001b[0m     \u001b[38;5;66;03m# dtype conversion if necessary.\u001b[39;00m\n\u001b[0;32m    830\u001b[0m     converted_Xs \u001b[38;5;241m=\u001b[39m [\n\u001b[1;32m--> 831\u001b[0m         \u001b[43mcheck_array\u001b[49m\u001b[43m(\u001b[49m\u001b[43mX\u001b[49m\u001b[43m,\u001b[49m\u001b[43m \u001b[49m\u001b[43maccept_sparse\u001b[49m\u001b[38;5;241;43m=\u001b[39;49m\u001b[38;5;28;43;01mTrue\u001b[39;49;00m\u001b[43m,\u001b[49m\u001b[43m \u001b[49m\u001b[43mforce_all_finite\u001b[49m\u001b[38;5;241;43m=\u001b[39;49m\u001b[38;5;28;43;01mFalse\u001b[39;49;00m\u001b[43m)\u001b[49m\n\u001b[0;32m    832\u001b[0m         \u001b[38;5;28;01mfor\u001b[39;00m X \u001b[38;5;129;01min\u001b[39;00m Xs\n\u001b[0;32m    833\u001b[0m     ]\n\u001b[0;32m    834\u001b[0m \u001b[38;5;28;01mexcept\u001b[39;00m \u001b[38;5;167;01mValueError\u001b[39;00m \u001b[38;5;28;01mas\u001b[39;00m e:\n",
      "File \u001b[1;32m~\\miniconda3\\lib\\site-packages\\sklearn\\utils\\validation.py:879\u001b[0m, in \u001b[0;36mcheck_array\u001b[1;34m(array, accept_sparse, accept_large_sparse, dtype, order, copy, force_all_finite, ensure_2d, allow_nd, ensure_min_samples, ensure_min_features, estimator, input_name)\u001b[0m\n\u001b[0;32m    878\u001b[0m     \u001b[38;5;28;01melse\u001b[39;00m:\n\u001b[1;32m--> 879\u001b[0m         array \u001b[38;5;241m=\u001b[39m \u001b[43m_asarray_with_order\u001b[49m\u001b[43m(\u001b[49m\u001b[43marray\u001b[49m\u001b[43m,\u001b[49m\u001b[43m \u001b[49m\u001b[43morder\u001b[49m\u001b[38;5;241;43m=\u001b[39;49m\u001b[43morder\u001b[49m\u001b[43m,\u001b[49m\u001b[43m \u001b[49m\u001b[43mdtype\u001b[49m\u001b[38;5;241;43m=\u001b[39;49m\u001b[43mdtype\u001b[49m\u001b[43m,\u001b[49m\u001b[43m \u001b[49m\u001b[43mxp\u001b[49m\u001b[38;5;241;43m=\u001b[39;49m\u001b[43mxp\u001b[49m\u001b[43m)\u001b[49m\n\u001b[0;32m    880\u001b[0m \u001b[38;5;28;01mexcept\u001b[39;00m ComplexWarning \u001b[38;5;28;01mas\u001b[39;00m complex_warning:\n",
      "File \u001b[1;32m~\\miniconda3\\lib\\site-packages\\sklearn\\utils\\_array_api.py:185\u001b[0m, in \u001b[0;36m_asarray_with_order\u001b[1;34m(array, dtype, order, copy, xp)\u001b[0m\n\u001b[0;32m    183\u001b[0m \u001b[38;5;28;01mif\u001b[39;00m xp\u001b[38;5;241m.\u001b[39m\u001b[38;5;18m__name__\u001b[39m \u001b[38;5;129;01min\u001b[39;00m {\u001b[38;5;124m\"\u001b[39m\u001b[38;5;124mnumpy\u001b[39m\u001b[38;5;124m\"\u001b[39m, \u001b[38;5;124m\"\u001b[39m\u001b[38;5;124mnumpy.array_api\u001b[39m\u001b[38;5;124m\"\u001b[39m}:\n\u001b[0;32m    184\u001b[0m     \u001b[38;5;66;03m# Use NumPy API to support order\u001b[39;00m\n\u001b[1;32m--> 185\u001b[0m     array \u001b[38;5;241m=\u001b[39m \u001b[43mnumpy\u001b[49m\u001b[38;5;241;43m.\u001b[39;49m\u001b[43masarray\u001b[49m\u001b[43m(\u001b[49m\u001b[43marray\u001b[49m\u001b[43m,\u001b[49m\u001b[43m \u001b[49m\u001b[43morder\u001b[49m\u001b[38;5;241;43m=\u001b[39;49m\u001b[43morder\u001b[49m\u001b[43m,\u001b[49m\u001b[43m \u001b[49m\u001b[43mdtype\u001b[49m\u001b[38;5;241;43m=\u001b[39;49m\u001b[43mdtype\u001b[49m\u001b[43m)\u001b[49m\n\u001b[0;32m    186\u001b[0m     \u001b[38;5;28;01mreturn\u001b[39;00m xp\u001b[38;5;241m.\u001b[39masarray(array, copy\u001b[38;5;241m=\u001b[39mcopy)\n",
      "\u001b[1;31mValueError\u001b[0m: could not convert string to float: 'Liverpool'",
      "\nThe above exception was the direct cause of the following exception:\n",
      "\u001b[1;31mValueError\u001b[0m                                Traceback (most recent call last)",
      "Cell \u001b[1;32mIn[49], line 4\u001b[0m\n\u001b[0;32m      2\u001b[0m \u001b[38;5;28;01mfrom\u001b[39;00m \u001b[38;5;21;01msklearn\u001b[39;00m\u001b[38;5;21;01m.\u001b[39;00m\u001b[38;5;21;01mpreprocessing\u001b[39;00m \u001b[38;5;28;01mimport\u001b[39;00m OneHotEncoder\n\u001b[0;32m      3\u001b[0m ct \u001b[38;5;241m=\u001b[39m ColumnTransformer(transformers\u001b[38;5;241m=\u001b[39m[(\u001b[38;5;124m'\u001b[39m\u001b[38;5;124mencoder\u001b[39m\u001b[38;5;124m'\u001b[39m, OneHotEncoder(), [\u001b[38;5;241m0\u001b[39m])], remainder\u001b[38;5;241m=\u001b[39m\u001b[38;5;124m'\u001b[39m\u001b[38;5;124mpassthrough\u001b[39m\u001b[38;5;124m'\u001b[39m)\n\u001b[1;32m----> 4\u001b[0m x \u001b[38;5;241m=\u001b[39m np\u001b[38;5;241m.\u001b[39marray(\u001b[43mct\u001b[49m\u001b[38;5;241;43m.\u001b[39;49m\u001b[43mfit_transform\u001b[49m\u001b[43m(\u001b[49m\u001b[43mx\u001b[49m\u001b[43m)\u001b[49m)\n",
      "File \u001b[1;32m~\\miniconda3\\lib\\site-packages\\sklearn\\utils\\_set_output.py:140\u001b[0m, in \u001b[0;36m_wrap_method_output.<locals>.wrapped\u001b[1;34m(self, X, *args, **kwargs)\u001b[0m\n\u001b[0;32m    138\u001b[0m \u001b[38;5;129m@wraps\u001b[39m(f)\n\u001b[0;32m    139\u001b[0m \u001b[38;5;28;01mdef\u001b[39;00m \u001b[38;5;21mwrapped\u001b[39m(\u001b[38;5;28mself\u001b[39m, X, \u001b[38;5;241m*\u001b[39margs, \u001b[38;5;241m*\u001b[39m\u001b[38;5;241m*\u001b[39mkwargs):\n\u001b[1;32m--> 140\u001b[0m     data_to_wrap \u001b[38;5;241m=\u001b[39m f(\u001b[38;5;28mself\u001b[39m, X, \u001b[38;5;241m*\u001b[39margs, \u001b[38;5;241m*\u001b[39m\u001b[38;5;241m*\u001b[39mkwargs)\n\u001b[0;32m    141\u001b[0m     \u001b[38;5;28;01mif\u001b[39;00m \u001b[38;5;28misinstance\u001b[39m(data_to_wrap, \u001b[38;5;28mtuple\u001b[39m):\n\u001b[0;32m    142\u001b[0m         \u001b[38;5;66;03m# only wrap the first output for cross decomposition\u001b[39;00m\n\u001b[0;32m    143\u001b[0m         \u001b[38;5;28;01mreturn\u001b[39;00m (\n\u001b[0;32m    144\u001b[0m             _wrap_data_with_container(method, data_to_wrap[\u001b[38;5;241m0\u001b[39m], X, \u001b[38;5;28mself\u001b[39m),\n\u001b[0;32m    145\u001b[0m             \u001b[38;5;241m*\u001b[39mdata_to_wrap[\u001b[38;5;241m1\u001b[39m:],\n\u001b[0;32m    146\u001b[0m         )\n",
      "File \u001b[1;32m~\\miniconda3\\lib\\site-packages\\sklearn\\compose\\_column_transformer.py:751\u001b[0m, in \u001b[0;36mColumnTransformer.fit_transform\u001b[1;34m(self, X, y)\u001b[0m\n\u001b[0;32m    748\u001b[0m \u001b[38;5;28mself\u001b[39m\u001b[38;5;241m.\u001b[39m_validate_output(Xs)\n\u001b[0;32m    749\u001b[0m \u001b[38;5;28mself\u001b[39m\u001b[38;5;241m.\u001b[39m_record_output_indices(Xs)\n\u001b[1;32m--> 751\u001b[0m \u001b[38;5;28;01mreturn\u001b[39;00m \u001b[38;5;28;43mself\u001b[39;49m\u001b[38;5;241;43m.\u001b[39;49m\u001b[43m_hstack\u001b[49m\u001b[43m(\u001b[49m\u001b[38;5;28;43mlist\u001b[39;49m\u001b[43m(\u001b[49m\u001b[43mXs\u001b[49m\u001b[43m)\u001b[49m\u001b[43m)\u001b[49m\n",
      "File \u001b[1;32m~\\miniconda3\\lib\\site-packages\\sklearn\\compose\\_column_transformer.py:835\u001b[0m, in \u001b[0;36mColumnTransformer._hstack\u001b[1;34m(self, Xs)\u001b[0m\n\u001b[0;32m    830\u001b[0m         converted_Xs \u001b[38;5;241m=\u001b[39m [\n\u001b[0;32m    831\u001b[0m             check_array(X, accept_sparse\u001b[38;5;241m=\u001b[39m\u001b[38;5;28;01mTrue\u001b[39;00m, force_all_finite\u001b[38;5;241m=\u001b[39m\u001b[38;5;28;01mFalse\u001b[39;00m)\n\u001b[0;32m    832\u001b[0m             \u001b[38;5;28;01mfor\u001b[39;00m X \u001b[38;5;129;01min\u001b[39;00m Xs\n\u001b[0;32m    833\u001b[0m         ]\n\u001b[0;32m    834\u001b[0m     \u001b[38;5;28;01mexcept\u001b[39;00m \u001b[38;5;167;01mValueError\u001b[39;00m \u001b[38;5;28;01mas\u001b[39;00m e:\n\u001b[1;32m--> 835\u001b[0m         \u001b[38;5;28;01mraise\u001b[39;00m \u001b[38;5;167;01mValueError\u001b[39;00m(\n\u001b[0;32m    836\u001b[0m             \u001b[38;5;124m\"\u001b[39m\u001b[38;5;124mFor a sparse output, all columns should \u001b[39m\u001b[38;5;124m\"\u001b[39m\n\u001b[0;32m    837\u001b[0m             \u001b[38;5;124m\"\u001b[39m\u001b[38;5;124mbe a numeric or convertible to a numeric.\u001b[39m\u001b[38;5;124m\"\u001b[39m\n\u001b[0;32m    838\u001b[0m         ) \u001b[38;5;28;01mfrom\u001b[39;00m \u001b[38;5;21;01me\u001b[39;00m\n\u001b[0;32m    840\u001b[0m     \u001b[38;5;28;01mreturn\u001b[39;00m sparse\u001b[38;5;241m.\u001b[39mhstack(converted_Xs)\u001b[38;5;241m.\u001b[39mtocsr()\n\u001b[0;32m    841\u001b[0m \u001b[38;5;28;01melse\u001b[39;00m:\n",
      "\u001b[1;31mValueError\u001b[0m: For a sparse output, all columns should be a numeric or convertible to a numeric."
     ]
    }
   ],
   "source": [
    "from sklearn.compose import ColumnTransformer\n",
    "from sklearn.preprocessing import OneHotEncoder\n",
    "ct = ColumnTransformer(transformers=[('encoder', OneHotEncoder(), [0])], remainder='passthrough')\n",
    "x = np.array(ct.fit_transform(x))"
   ]
  },
  {
   "cell_type": "code",
   "execution_count": 50,
   "id": "763249db",
   "metadata": {},
   "outputs": [
    {
     "name": "stdout",
     "output_type": "stream",
     "text": [
      "[['Sheffield United' 'Liverpool' 1.0 1.0 'D']\n",
      " ['Arsenal' 'Aston Villa' 1.0 1.0 'D']\n",
      " ['Everton' 'Watford' 2.0 1.0 'H']\n",
      " ...\n",
      " ['Swansea City' 'Stoke City' 1.0 2.0 'A']\n",
      " ['Tottenham Hotspur' 'Leicester City' 5.0 4.0 'H']\n",
      " ['West Ham United' 'Everton' 3.0 1.0 'H']]\n"
     ]
    }
   ],
   "source": [
    "print(x)"
   ]
  },
  {
   "cell_type": "code",
   "execution_count": 51,
   "id": "8b946ab1",
   "metadata": {},
   "outputs": [],
   "source": [
    "from sklearn.preprocessing import LabelEncoder\n",
    "le = LabelEncoder()\n",
    "y = le.fit_transform(y)"
   ]
  },
  {
   "cell_type": "code",
   "execution_count": 52,
   "id": "56d054a4",
   "metadata": {},
   "outputs": [
    {
     "name": "stdout",
     "output_type": "stream",
     "text": [
      "[ 0  0  0 ... 11 11 11]\n"
     ]
    }
   ],
   "source": [
    "print(y)"
   ]
  },
  {
   "cell_type": "code",
   "execution_count": 53,
   "id": "b4e74f0f",
   "metadata": {},
   "outputs": [],
   "source": [
    "from sklearn.model_selection import train_test_split\n",
    "x_train, x_test, y_train, y_test = train_test_split(x, y, test_size=0.2, random_state=1)"
   ]
  },
  {
   "cell_type": "code",
   "execution_count": 54,
   "id": "04008818",
   "metadata": {},
   "outputs": [
    {
     "name": "stdout",
     "output_type": "stream",
     "text": [
      "[['Crystal Palace' 'Stoke City' 1.0 0.0 'H']\n",
      " ['Sunderland' 'West Ham United' 2.0 2.0 'D']\n",
      " ['Chelsea' 'Wigan Athletic' 1.0 1.0 'D']\n",
      " ...\n",
      " ['Portsmouth' 'Blackburn Rovers' 3.0 2.0 'H']\n",
      " ['Hull City' 'Everton' 2.0 2.0 'D']\n",
      " ['Manchester City' 'Blackburn Rovers' 0.0 3.0 'A']]\n"
     ]
    }
   ],
   "source": [
    "print(x_train)"
   ]
  },
  {
   "cell_type": "code",
   "execution_count": 55,
   "id": "a518d435",
   "metadata": {},
   "outputs": [
    {
     "name": "stdout",
     "output_type": "stream",
     "text": [
      "[['Brighton and Hove Albion' 'Southampton' 1.0 1.0 'D']\n",
      " ['Manchester City' 'Swansea City' 2.0 1.0 'H']\n",
      " ['Arsenal' 'Sunderland' 2.0 0.0 'H']\n",
      " ...\n",
      " ['West Bromwich Albion' 'Tottenham Hotspur' 1.0 3.0 'A']\n",
      " ['West Bromwich Albion' 'Queens Park Rangers' 1.0 4.0 'A']\n",
      " ['Tottenham Hotspur' 'Arsenal' 2.0 2.0 'D']]\n"
     ]
    }
   ],
   "source": [
    "print(x_test)"
   ]
  },
  {
   "cell_type": "code",
   "execution_count": 56,
   "id": "5746c6b3",
   "metadata": {},
   "outputs": [
    {
     "name": "stdout",
     "output_type": "stream",
     "text": [
      "[ 7 10  1 ...  2 10  0]\n"
     ]
    }
   ],
   "source": [
    "print(y_train)"
   ]
  },
  {
   "cell_type": "code",
   "execution_count": 57,
   "id": "a3fb547d",
   "metadata": {},
   "outputs": [
    {
     "name": "stdout",
     "output_type": "stream",
     "text": [
      "[11 10  3  1  0 11 10  9  4  0  0  2  9  3  0  0  7  4  8  8 10  6  7  2\n",
      " 11  4  4  5  0  9  6  7  5  5  6  5 11  5  5 10  0 11  8  1  3  5  9 11\n",
      "  8 10  8  7 11  0  4  3  3  7  8  5  8  4 11  8  6  7  0  4 11  9  6  4\n",
      "  3  4  3 10  7 11  8 11 11  6 10  1  7  5  3 11  6  5  8  3  1  5  8  6\n",
      "  3 11  3  3  3  7  0  5  4  0 10  5  0  3  0  6  5  1  3  9  7 10 11 10\n",
      "  4  6  4  9  9  6  5  3  1  5  4  0  8 11  6  4  9  4  0 11  3  6  5  3\n",
      " 11  0  8  2  4 11  4 11  2 11  2  2  0  6  9  8 11  0 10  7 11  2  0 11\n",
      "  1  1  2  0 11  6  2  1  9  4  9 11  5  8  3  4  8  5  5  1  7  6 11  6\n",
      "  8 10  5 11  2  4  5  4 10  9  7  6  3  8  2  7  3  1  4  5  3  6 11  7\n",
      "  5  5  1  9  0  4  1 11 10  5  7  2  4  2  6  7  0  6 10  8  3  6  0  2\n",
      "  2  8  7  0 11  9  5 10 11  9  7 11  4 11  7  0  0  6  3  3  4  7  6  8\n",
      " 10  7  1  8  3 10  1  5  5  1  7  8  9  5  0  4  7 11  0  8  0  3  7  5\n",
      " 10  6 10  4 10  5 11  8  9 10 11  7  7  1  9  4 10 10  7  0  5  6 10  4\n",
      "  5  7 10 11  2  8  7  9  0  1  2  3  3  8  3  3  3  5 10  6  0  4  5  2\n",
      "  5  4  6 11  2  8  9  8  1  6 10  8  9  0  8  1 11  9  8  1  4  5  4  6\n",
      " 10  1  7  9  5  9  8  1  0  4  2 10  4 11  8  0  5  2  2  3  9  0  8  0\n",
      "  6  0  2  5  0  3 11  0  1  9  9  2  5 10 10  4  4  6  9  3 10 11 10  8\n",
      "  7 11  6  7  0  9  7  7  1  2  9  7  9  6  8  6  7  9  0  2  9 11  9  9\n",
      "  4  2  2  0  1 10  4  2 10  4 10  8  4  4  1  3 10 11  7 10  6  2  3 11\n",
      "  6  0  3  3  8  3  5  0  2  4 11  2  8  9  9 10  0  3  7  3  1  7  3  6\n",
      "  8  8  6 11  2  0  7  7  4  1  7  8  2  7  7  6  2 10  1 10  4  3  1  0\n",
      " 11  9  0  1  9  3  7  8  7  3  6  6  4  1  9  3  8  2  5  5 10  5  7  9\n",
      "  9  6  4  1 10  2  2  8  2  4  2  5  9 10  1  5  4  8  7  2  0 10  9  8\n",
      "  6  0  9  2 10  6  3  0  1  8  8  5 10 10 10  9  3  1  9 11  0  5  6  4\n",
      "  1  0  3  9  2  1 11  0  0  5 10  9  0  5  2  1  4  7  9  2  6  1  0  8\n",
      "  6  7  2  7 10  7 11 11  6  1 10 10  7  5  1  1 10  9  9  5  3  0  7 10\n",
      " 10  4  1  6  2  8  5  0  6  1  8  2  3 10  4  8  4  8  4 11  4  9  6  7\n",
      "  0  6  4  7  8  8  7  7  2  3 11  9  1  2  2  7 10  2 10  2  5  8  0  3\n",
      " 11  5  1  8 11  8  7  9  8  4 11 11  6  9  8  0  9  4  2 10  5  9  3  8\n",
      "  8  5  7  7  1 11  0  2  4  6  0  1  1  5  9  0  6 11  4  4  3  8  2  6\n",
      " 11  1  5  9  6  9  2  2  4  9 11  6  6  9  8  9  8 11  8  7  9  1  1 11\n",
      "  0 10  8  0 11  5 11  4 11 11  4  8  4  1  9 11  9  7  4  8  9  6 10 10\n",
      "  5  8  0  6  1  1  5  9  0  1  9  1 11  0  3 10  5  1  2 11  8  6 10  1\n",
      "  6  7  5  6  0 11  9  4  1  9  2  8  7  0 10  7  0  9  4  3  4  6  0  0\n",
      "  4  1  4  0  7 11  7  9  0  8  4  8  2  4 10 10  3  7  4  0  4  2  8  7\n",
      "  6  9 10  4  3 10  5  9 10  2  2 11  3  6  3  1  8  3  7  2  7 11  0 11\n",
      "  2  9 10  2  4  0  3  2  6  7  2  2  5  8  6  7  2  2  5  6  2  2  2  0\n",
      " 10 11  4 10 11  0  8  6  5  0  8  4  1 11 11  2 11  2  3 10  4  5  8  0]\n"
     ]
    }
   ],
   "source": [
    "print(y_test)"
   ]
  },
  {
   "cell_type": "code",
   "execution_count": 58,
   "id": "206e5913",
   "metadata": {},
   "outputs": [],
   "source": [
    "from sklearn.preprocessing import StandardScaler\n",
    "sc = StandardScaler()\n",
    "x_train[:, 2:4] = sc.fit_transform(x_train[:, 2:4])\n",
    "x_test[:, 2:4] = sc.transform(x_test[:, 2:4])"
   ]
  },
  {
   "cell_type": "code",
   "execution_count": 59,
   "id": "87a77e9a",
   "metadata": {},
   "outputs": [
    {
     "name": "stdout",
     "output_type": "stream",
     "text": [
      "[['Crystal Palace' 'Stoke City' -0.4039524349176407 -1.004007662688391\n",
      "  'H']\n",
      " ['Sunderland' 'West Ham United' 0.3554322569880411 0.7546924617479335\n",
      "  'D']\n",
      " ['Chelsea' 'Wigan Athletic' -0.4039524349176407 -0.12465760047022872 'D']\n",
      " ...\n",
      " ['Portsmouth' 'Blackburn Rovers' 1.114816948893723 0.7546924617479335\n",
      "  'H']\n",
      " ['Hull City' 'Everton' 0.3554322569880411 0.7546924617479335 'D']\n",
      " ['Manchester City' 'Blackburn Rovers' -1.1633371268233226\n",
      "  1.6340425239660956 'A']]\n"
     ]
    }
   ],
   "source": [
    "print(x_train)"
   ]
  },
  {
   "cell_type": "code",
   "execution_count": 41,
   "id": "af2c2492",
   "metadata": {},
   "outputs": [
    {
     "name": "stdout",
     "output_type": "stream",
     "text": [
      "[['Crystal Palace' 'Stoke City' -0.4039524349176407 -1.004007662688391\n",
      "  'H']\n",
      " ['Sunderland' 'West Ham United' 0.3554322569880411 0.7546924617479335\n",
      "  'D']\n",
      " ['Chelsea' 'Wigan Athletic' -0.4039524349176407 -0.12465760047022872 'D']\n",
      " ...\n",
      " ['Portsmouth' 'Blackburn Rovers' 1.114816948893723 0.7546924617479335\n",
      "  'H']\n",
      " ['Hull City' 'Everton' 0.3554322569880411 0.7546924617479335 'D']\n",
      " ['Manchester City' 'Blackburn Rovers' -1.1633371268233226\n",
      "  1.6340425239660956 'A']]\n"
     ]
    }
   ],
   "source": [
    "print(x_test)"
   ]
  },
  {
   "cell_type": "code",
   "execution_count": null,
   "id": "7c567dd7",
   "metadata": {},
   "outputs": [],
   "source": []
  },
  {
   "cell_type": "code",
   "execution_count": null,
   "id": "1dc62fe5",
   "metadata": {},
   "outputs": [],
   "source": []
  }
 ],
 "metadata": {
  "kernelspec": {
   "display_name": "Python 3 (ipykernel)",
   "language": "python",
   "name": "python3"
  },
  "language_info": {
   "codemirror_mode": {
    "name": "ipython",
    "version": 3
   },
   "file_extension": ".py",
   "mimetype": "text/x-python",
   "name": "python",
   "nbconvert_exporter": "python",
   "pygments_lexer": "ipython3",
   "version": "3.10.9"
  }
 },
 "nbformat": 4,
 "nbformat_minor": 5
}
